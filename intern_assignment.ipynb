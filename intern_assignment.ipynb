{
 "cells": [
  {
   "cell_type": "code",
   "execution_count": null,
   "id": "f1d45cd7",
   "metadata": {},
   "outputs": [],
   "source": [
    "import numpy as np\n",
    "import pandas as pd\n",
    "import random\n",
    "from scipy.stats import norm\n",
    "import matplotlib.pyplot as plt\n",
    "from tensorflow import keras\n",
    "from tensorflow.keras.models import Sequential\n",
    "from tensorflow.keras.layers import LSTM, Dense, Dropout\n",
    "import yfinance as yf  # For real data reference (optional)\n",
    "from pypfopt.efficient_frontier import EfficientFrontier\n",
    "from pypfopt.risk_models import CovarianceShrinkage\n",
    "from pypfopt.expected_returns import mean_historical_return\n",
    "from transformers import pipeline"
   ]
  },
  {
   "cell_type": "code",
   "execution_count": null,
   "id": "d9eace6f",
   "metadata": {},
   "outputs": [],
   "source": [
    "# Task 1: Data Generation\n",
    "\n",
    "# Generate Synthetic Stock Prices using GBM\n",
    "def generate_stock_prices(num_days=252, num_stocks=5, mu=0.05, sigma=0.2, S0=100):\n",
    "    dt = 1 / num_days\n",
    "    stock_prices = np.zeros((num_days, num_stocks))\n",
    "    stock_prices[0, :] = S0\n",
    "    for t in range(1, num_days):\n",
    "        stock_prices[t, :] = stock_prices[t - 1, :] * np.exp(\n",
    "            (mu - 0.5 * sigma ** 2) * dt + sigma * np.sqrt(dt) * np.random.randn(num_stocks)\n",
    "        )\n",
    "    return pd.DataFrame(stock_prices, columns=[f'Stock_{i+1}' for i in range(num_stocks)])"
   ]
  },
  {
   "cell_type": "code",
   "execution_count": null,
   "id": "37502339",
   "metadata": {},
   "outputs": [],
   "source": [
    "# Generate Mutual Fund NAVs\n",
    "def generate_mutual_fund_navs(num_days=252, num_funds=3):\n",
    "    navs = np.cumsum(np.random.randn(num_days, num_funds) * 0.5, axis=0) + 100\n",
    "    return pd.DataFrame(navs, columns=[f'Fund_{i+1}' for i in range(num_funds)])"
   ]
  },
  {
   "cell_type": "code",
   "execution_count": null,
   "id": "da842787",
   "metadata": {},
   "outputs": [],
   "source": [
    "# Generate User Risk Profiles\n",
    "def generate_risk_profiles(num_users=100):\n",
    "    risk_levels = ['Low', 'Medium', 'High']\n",
    "    users = {\n",
    "        'User_ID': range(1, num_users+1),\n",
    "        'Risk_Profile': [random.choice(risk_levels) for _ in range(num_users)]\n",
    "    }\n",
    "    return pd.DataFrame(users)"
   ]
  },
  {
   "cell_type": "code",
   "execution_count": null,
   "id": "1842c7fd",
   "metadata": {},
   "outputs": [],
   "source": [
    "# Generate and save data\n",
    "stock_data = generate_stock_prices()\n",
    "mutual_fund_data = generate_mutual_fund_navs()\n",
    "risk_profiles = generate_risk_profiles()\n",
    "\n",
    "stock_data.to_csv('stock_data.csv', index=False)\n",
    "mutual_fund_data.to_csv('mutual_fund_data.csv', index=False)\n",
    "risk_profiles.to_csv('risk_profiles.csv', index=False)"
   ]
  },
  {
   "cell_type": "code",
   "execution_count": null,
   "id": "4e344a68",
   "metadata": {},
   "outputs": [],
   "source": [
    "# Task 2: AI Agent for Investment Advisory\n",
    "\n",
    "# NLP-Based Query Understanding\n",
    "nlp_pipeline = pipeline(\"text-classification\", model=\"ProsusAI/finbert\")\n",
    "def analyze_query(query):\n",
    "    return nlp_pipeline(query)"
   ]
  },
  {
   "cell_type": "code",
   "execution_count": null,
   "id": "e573ed85",
   "metadata": {},
   "outputs": [],
   "source": [
    "# Stock Price Forecasting with LSTM\n",
    "def create_lstm_model(input_shape):\n",
    "    model = Sequential([\n",
    "        LSTM(50, return_sequences=True, input_shape=input_shape),\n",
    "        Dropout(0.2),\n",
    "        LSTM(50),\n",
    "        Dense(1)\n",
    "    ])\n",
    "    model.compile(optimizer='adam', loss='mse')\n",
    "    return model"
   ]
  },
  {
   "cell_type": "code",
   "execution_count": null,
   "id": "188f3f52",
   "metadata": {},
   "outputs": [],
   "source": [
    "# Portfolio Optimization using Markowitz MPT\n",
    "def optimize_portfolio(stock_data):\n",
    "    mu = mean_historical_return(stock_data)\n",
    "    S = CovarianceShrinkage(stock_data).ledoit_wolf()\n",
    "    ef = EfficientFrontier(mu, S)\n",
    "    weights = ef.max_sharpe()\n",
    "    cleaned_weights = ef.clean_weights()\n",
    "    return cleaned_weights"
   ]
  },
  {
   "cell_type": "code",
   "execution_count": null,
   "id": "56d8a892",
   "metadata": {},
   "outputs": [],
   "source": [
    "print(\"All tasks implemented successfully. Data saved as CSVs.\")"
   ]
  }
 ],
 "metadata": {},
 "nbformat": 4,
 "nbformat_minor": 5
}